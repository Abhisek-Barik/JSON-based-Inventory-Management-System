{
 "cells": [
  {
   "cell_type": "markdown",
   "id": "743a3e5a",
   "metadata": {},
   "source": [
    "# Assignment 1 - JSON Based Inventory Management System - PART 2 (B)"
   ]
  },
  {
   "cell_type": "markdown",
   "id": "769e13f3",
   "metadata": {},
   "source": [
    "### Reading Inventory"
   ]
  },
  {
   "cell_type": "code",
   "execution_count": 1,
   "id": "13651a10",
   "metadata": {},
   "outputs": [],
   "source": [
    "import json\n",
    "\n",
    "fd = open(\"record.json\",'r')\n",
    "r = fd.read()\n",
    "fd.close()\n",
    "\n",
    "records = json.loads(r)"
   ]
  },
  {
   "cell_type": "code",
   "execution_count": 2,
   "id": "a2a7454e",
   "metadata": {},
   "outputs": [
    {
     "data": {
      "text/plain": [
       "{'1001': {'Item': 'Airpods',\n",
       "  'Price': 1299,\n",
       "  'Quantity': 100,\n",
       "  'Weight': 5,\n",
       "  'Color': 'White'},\n",
       " '1002': {'Item': 'Shoes',\n",
       "  'Price': 3595,\n",
       "  'Quantity': 200,\n",
       "  'Weight': 800,\n",
       "  'Color': 'Grey'},\n",
       " '1003': {'Item': 'Spectacles',\n",
       "  'Price': 999,\n",
       "  'Quantity': 150,\n",
       "  'Weight': 20,\n",
       "  'Color': 'Blue'},\n",
       " '1004': {'Item': 'Camera',\n",
       "  'Price': 30685,\n",
       "  'Quantity': 75,\n",
       "  'Weight': 386,\n",
       "  'Color': 'Black'},\n",
       " '1005': {'Item': 'Jacket',\n",
       "  'Price': 1979,\n",
       "  'Quantity': 50,\n",
       "  'Weight': 1000,\n",
       "  'Color': 'Blue & Yellow'},\n",
       " '1006': {'Item': 'Mobile',\n",
       "  'Price': 5000,\n",
       "  'Quantity': 250,\n",
       "  'Weight': 140,\n",
       "  'Color': 'Red'},\n",
       " '1007': {'Item': 'T-Shirt',\n",
       "  'Price': 300,\n",
       "  'Quantity': 500,\n",
       "  'Weight': 130,\n",
       "  'Color': 'Pink'},\n",
       " '1008': {'Item': 'Headphones',\n",
       "  'Price': 6174,\n",
       "  'Quantity': 40,\n",
       "  'Weight': 15,\n",
       "  'Color': 'White'},\n",
       " '1009': {'Item': 'Bag',\n",
       "  'Price': 3599,\n",
       "  'Quantity': 220,\n",
       "  'Weight': 4100,\n",
       "  'Color': 'Golden'},\n",
       " '1010': {'Item': 'Kitkat',\n",
       "  'Price': 126,\n",
       "  'Quantity': 500,\n",
       "  'Weight': 41,\n",
       "  'Color': 'Brown'},\n",
       " '1011': {'Item': 'Teddy Bear',\n",
       "  'Price': 1000,\n",
       "  'Quantity': 20,\n",
       "  'Weight': 612,\n",
       "  'Color': 'Green'},\n",
       " '1012': {'Item': 'Biscuit',\n",
       "  'Price': 100,\n",
       "  'Quantity': 55,\n",
       "  'Weight': 50,\n",
       "  'Color': 'Black'},\n",
       " '1013': {'Item': 'Cake',\n",
       "  'Price': 199,\n",
       "  'Quantity': 160,\n",
       "  'Weight': 500,\n",
       "  'Color': 'Orange'},\n",
       " '1014': {'Item': 'Bottle',\n",
       "  'Price': 199,\n",
       "  'Quantity': 620,\n",
       "  'Weight': 10,\n",
       "  'Color': 'White'},\n",
       " '1015': {'Item': 'Apple',\n",
       "  'Price': 125,\n",
       "  'Quantity': 800,\n",
       "  'Weight': 70,\n",
       "  'Color': 'Red'},\n",
       " '1016': {'Item': 'Cricket Bat',\n",
       "  'Price': 1200,\n",
       "  'Quantity': 700,\n",
       "  'Weight': 1250,\n",
       "  'Color': 'Brown'},\n",
       " '1017': {'Item': 'Pizza',\n",
       "  'Price': 99,\n",
       "  'Quantity': 500,\n",
       "  'Weight': 500,\n",
       "  'Color': 'Yellow'},\n",
       " '1018': {'Item': 'Jeans',\n",
       "  'Price': 650,\n",
       "  'Quantity': 610,\n",
       "  'Weight': 890,\n",
       "  'Color': 'Black'},\n",
       " '1019': {'Item': 'Mask',\n",
       "  'Price': 200,\n",
       "  'Quantity': 720,\n",
       "  'Weight': 4,\n",
       "  'Color': 'Maroon'},\n",
       " '1020': {'Item': 'Necklace',\n",
       "  'Price': 18437,\n",
       "  'Quantity': 400,\n",
       "  'Weight': 30,\n",
       "  'Color': 'Yellow'},\n",
       " '1021': {'Item': 'Ring',\n",
       "  'Price': 3112,\n",
       "  'Quantity': 200,\n",
       "  'Weight': 5,\n",
       "  'Color': 'Golden'},\n",
       " '1022': {'Item': 'Football',\n",
       "  'Price': 1499,\n",
       "  'Quantity': 560,\n",
       "  'Weight': 5,\n",
       "  'Color': 'Blue'},\n",
       " '1023': {'Item': 'Trophy',\n",
       "  'Price': 7899,\n",
       "  'Quantity': 150,\n",
       "  'Weight': 6175,\n",
       "  'Color': 'Brown & Yellow'},\n",
       " '1024': {'Item': 'Detergent',\n",
       "  'Price': 199,\n",
       "  'Quantity': 320,\n",
       "  'Weight': 500,\n",
       "  'Color': 'White'},\n",
       " '1025': {'Item': 'Tea Cup',\n",
       "  'Price': 23,\n",
       "  'Quantity': 200,\n",
       "  'Weight': 92,\n",
       "  'Color': 'Red & White'},\n",
       " '1026': {'Item': 'Bangles',\n",
       "  'Price': 30000,\n",
       "  'Quantity': 400,\n",
       "  'Weight': 50,\n",
       "  'Color': 'Cyan'},\n",
       " '1027': {'Item': 'Photo Frame',\n",
       "  'Price': 3550,\n",
       "  'Quantity': 180,\n",
       "  'Weight': 123,\n",
       "  'Color': 'Purple'},\n",
       " '1028': {'Item': 'Medicine',\n",
       "  'Price': 876,\n",
       "  'Quantity': 670,\n",
       "  'Weight': 200,\n",
       "  'Color': 'Orange'},\n",
       " '1029': {'Item': 'Umbrella',\n",
       "  'Price': 2045,\n",
       "  'Quantity': 110,\n",
       "  'Weight': 289,\n",
       "  'Color': 'Violet'},\n",
       " '1030': {'Item': 'Cosmetics',\n",
       "  'Price': 699,\n",
       "  'Quantity': 840,\n",
       "  'Weight': 699,\n",
       "  'Color': 'Pink'},\n",
       " '1031': {'Item': 'Hand Gloves',\n",
       "  'Price': 1500,\n",
       "  'Quantity': 68,\n",
       "  'Weight': 45,\n",
       "  'Color': 'Brown'},\n",
       " '1032': {'Item': 'Bulb',\n",
       "  'Price': 50,\n",
       "  'Quantity': 200,\n",
       "  'Weight': 10,\n",
       "  'Color': 'White'},\n",
       " '1033': {'Item': 'Television',\n",
       "  'Price': 50000,\n",
       "  'Quantity': 200,\n",
       "  'Weight': 15000,\n",
       "  'Color': 'Black'},\n",
       " '1034': {'Item': 'Air Conditioner',\n",
       "  'Price': 25000,\n",
       "  'Quantity': 423,\n",
       "  'Weight': 14750,\n",
       "  'Color': 'Magenta'},\n",
       " '1035': {'Item': 'Fan',\n",
       "  'Price': 8000,\n",
       "  'Quantity': 98,\n",
       "  'Weight': 1530,\n",
       "  'Color': 'Red'}}"
      ]
     },
     "execution_count": 2,
     "metadata": {},
     "output_type": "execute_result"
    }
   ],
   "source": [
    "records"
   ]
  },
  {
   "cell_type": "markdown",
   "id": "2a80762a",
   "metadata": {},
   "source": [
    "## Purchasing & Billing (Note: Bill is Displayed Below)\n",
    "### First the user will be able to view all the items available (by the help of \"Show Items\")\n",
    "### Then for purchasing he/she needs to input Product id & Quantity (\"when the \"Purchase Items\" code will run).\n",
    "### After that automatically with the help of code, his/her bill will be generated.\n"
   ]
  },
  {
   "cell_type": "code",
   "execution_count": 3,
   "id": "02eeb9e9",
   "metadata": {},
   "outputs": [],
   "source": [
    "lst = [] #To store transaction in list"
   ]
  },
  {
   "cell_type": "code",
   "execution_count": 4,
   "id": "e405a040",
   "metadata": {},
   "outputs": [
    {
     "name": "stdout",
     "output_type": "stream",
     "text": [
      "***************************** **********ETG IMS SHOPPING ONLINE MART ************************************** **********\n",
      "                                               Hope you are fine!                         \n",
      "                                                    Welcome!                         \n",
      "                                               Have a great day!                         \n",
      "\n",
      "\n",
      "--------------------------------------------------Show Items-------------------------------------------------------------\n",
      "\n",
      "\n",
      "{'1001': {'Item': 'Airpods', 'Price': 1299, 'Quantity': 100, 'Weight': 5, 'Color': 'White'}, '1002': {'Item': 'Shoes', 'Price': 3595, 'Quantity': 200, 'Weight': 800, 'Color': 'Grey'}, '1003': {'Item': 'Spectacles', 'Price': 999, 'Quantity': 150, 'Weight': 20, 'Color': 'Blue'}, '1004': {'Item': 'Camera', 'Price': 30685, 'Quantity': 75, 'Weight': 386, 'Color': 'Black'}, '1005': {'Item': 'Jacket', 'Price': 1979, 'Quantity': 50, 'Weight': 1000, 'Color': 'Blue & Yellow'}, '1006': {'Item': 'Mobile', 'Price': 5000, 'Quantity': 250, 'Weight': 140, 'Color': 'Red'}, '1007': {'Item': 'T-Shirt', 'Price': 300, 'Quantity': 500, 'Weight': 130, 'Color': 'Pink'}, '1008': {'Item': 'Headphones', 'Price': 6174, 'Quantity': 40, 'Weight': 15, 'Color': 'White'}, '1009': {'Item': 'Bag', 'Price': 3599, 'Quantity': 220, 'Weight': 4100, 'Color': 'Golden'}, '1010': {'Item': 'Kitkat', 'Price': 126, 'Quantity': 500, 'Weight': 41, 'Color': 'Brown'}, '1011': {'Item': 'Teddy Bear', 'Price': 1000, 'Quantity': 20, 'Weight': 612, 'Color': 'Green'}, '1012': {'Item': 'Biscuit', 'Price': 100, 'Quantity': 55, 'Weight': 50, 'Color': 'Black'}, '1013': {'Item': 'Cake', 'Price': 199, 'Quantity': 160, 'Weight': 500, 'Color': 'Orange'}, '1014': {'Item': 'Bottle', 'Price': 199, 'Quantity': 620, 'Weight': 10, 'Color': 'White'}, '1015': {'Item': 'Apple', 'Price': 125, 'Quantity': 800, 'Weight': 70, 'Color': 'Red'}, '1016': {'Item': 'Cricket Bat', 'Price': 1200, 'Quantity': 700, 'Weight': 1250, 'Color': 'Brown'}, '1017': {'Item': 'Pizza', 'Price': 99, 'Quantity': 500, 'Weight': 500, 'Color': 'Yellow'}, '1018': {'Item': 'Jeans', 'Price': 650, 'Quantity': 610, 'Weight': 890, 'Color': 'Black'}, '1019': {'Item': 'Mask', 'Price': 200, 'Quantity': 720, 'Weight': 4, 'Color': 'Maroon'}, '1020': {'Item': 'Necklace', 'Price': 18437, 'Quantity': 400, 'Weight': 30, 'Color': 'Yellow'}, '1021': {'Item': 'Ring', 'Price': 3112, 'Quantity': 200, 'Weight': 5, 'Color': 'Golden'}, '1022': {'Item': 'Football', 'Price': 1499, 'Quantity': 560, 'Weight': 5, 'Color': 'Blue'}, '1023': {'Item': 'Trophy', 'Price': 7899, 'Quantity': 150, 'Weight': 6175, 'Color': 'Brown & Yellow'}, '1024': {'Item': 'Detergent', 'Price': 199, 'Quantity': 320, 'Weight': 500, 'Color': 'White'}, '1025': {'Item': 'Tea Cup', 'Price': 23, 'Quantity': 200, 'Weight': 92, 'Color': 'Red & White'}, '1026': {'Item': 'Bangles', 'Price': 30000, 'Quantity': 400, 'Weight': 50, 'Color': 'Cyan'}, '1027': {'Item': 'Photo Frame', 'Price': 3550, 'Quantity': 180, 'Weight': 123, 'Color': 'Purple'}, '1028': {'Item': 'Medicine', 'Price': 876, 'Quantity': 670, 'Weight': 200, 'Color': 'Orange'}, '1029': {'Item': 'Umbrella', 'Price': 2045, 'Quantity': 110, 'Weight': 289, 'Color': 'Violet'}, '1030': {'Item': 'Cosmetics', 'Price': 699, 'Quantity': 840, 'Weight': 699, 'Color': 'Pink'}, '1031': {'Item': 'Hand Gloves', 'Price': 1500, 'Quantity': 68, 'Weight': 45, 'Color': 'Brown'}, '1032': {'Item': 'Bulb', 'Price': 50, 'Quantity': 200, 'Weight': 10, 'Color': 'White'}, '1033': {'Item': 'Television', 'Price': 50000, 'Quantity': 200, 'Weight': 15000, 'Color': 'Black'}, '1034': {'Item': 'Air Conditioner', 'Price': 25000, 'Quantity': 423, 'Weight': 14750, 'Color': 'Magenta'}, '1035': {'Item': 'Fan', 'Price': 8000, 'Quantity': 98, 'Weight': 1530, 'Color': 'Red'}}\n",
      "\n",
      "\n",
      "--------------------------------------------Purchase Items-----------------------------------------------------------\n",
      "Enter the product_Id: 1025\n",
      "Enter the quantity: 10\n",
      "Product:  Tea Cup\n",
      "Price:  23\n",
      "Billing Amount:  230\n"
     ]
    }
   ],
   "source": [
    "print('''***************************** **********ETG IMS SHOPPING ONLINE MART ************************************** **********''')\n",
    "print('                                               Hope you are fine!                         ')\n",
    "print('                                                    Welcome!                         ')\n",
    "print('                                               Have a great day!                         ')\n",
    "print()              \n",
    "print() \n",
    "print('--------------------------------------------------Show Items-------------------------------------------------------------')\n",
    "print()\n",
    "print() \n",
    "print(records)\n",
    "print()\n",
    "print() \n",
    "s=0\n",
    "\n",
    "print('--------------------------------------------Purchase Items-----------------------------------------------------------')  \n",
    "\n",
    "ui_prod = str(input(\"Enter the product_Id: \")) \n",
    "ui_quant = int(input(\"Enter the quantity: \")) \n",
    "prdct = records[ui_prod]['Item']\n",
    "prc = records[ui_prod]['Price']\n",
    "amt = records[ui_prod]['Price'] * ui_quant\n",
    "print(\"Product: \", prdct) \n",
    "print(\"Price: \", prc) \n",
    "print(\"Billing Amount: \", amt) \n",
    "\n",
    "records[ui_prod]['Quantity'] = records[ui_prod]['Quantity'] - ui_quant \n",
    "i=  records[ui_prod]['Price'] * ui_quant\n",
    "s= s+i\n",
    "lst.append( {\"ID\":ui_prod,\n",
    "         \"Quantity\": ui_quant,\n",
    "            \"Product name\": prdct,\n",
    "           \"Price\": prc,\n",
    "           \"Billing amount\" : amt\n",
    "         })\n"
   ]
  },
  {
   "cell_type": "code",
   "execution_count": 5,
   "id": "eadcdcfb",
   "metadata": {},
   "outputs": [
    {
     "data": {
      "text/plain": [
       "[{'ID': '1025',\n",
       "  'Quantity': 10,\n",
       "  'Product name': 'Tea Cup',\n",
       "  'Price': 23,\n",
       "  'Billing amount': 230}]"
      ]
     },
     "execution_count": 5,
     "metadata": {},
     "output_type": "execute_result"
    }
   ],
   "source": [
    "lst"
   ]
  },
  {
   "cell_type": "markdown",
   "id": "069701e6",
   "metadata": {},
   "source": [
    "### Updating Inventory after purchase"
   ]
  },
  {
   "cell_type": "code",
   "execution_count": 6,
   "id": "5a9193df",
   "metadata": {},
   "outputs": [],
   "source": [
    "js = json.dumps(lst)\n",
    "fd = open(\"transaction.json\",'a+')\n",
    "fd.write(js)\n",
    "fd.close()"
   ]
  },
  {
   "cell_type": "markdown",
   "id": "b0c5aeda",
   "metadata": {},
   "source": [
    "### Sales Transaction "
   ]
  },
  {
   "cell_type": "code",
   "execution_count": 7,
   "id": "b1fb4ec0",
   "metadata": {},
   "outputs": [],
   "source": [
    "fd = open(\"transaction.json\",'r')\n",
    "r = fd.read()\n",
    "fd.close()\n",
    "\n",
    "trans = json.loads(r)"
   ]
  },
  {
   "cell_type": "code",
   "execution_count": 8,
   "id": "c228f6e0",
   "metadata": {},
   "outputs": [
    {
     "data": {
      "text/plain": [
       "[{'ID': '1025',\n",
       "  'Quantity': 10,\n",
       "  'Product name': 'Tea Cup',\n",
       "  'Price': 23,\n",
       "  'Billing amount': 230}]"
      ]
     },
     "execution_count": 8,
     "metadata": {},
     "output_type": "execute_result"
    }
   ],
   "source": [
    "trans"
   ]
  },
  {
   "cell_type": "code",
   "execution_count": null,
   "id": "91cec412",
   "metadata": {},
   "outputs": [],
   "source": []
  }
 ],
 "metadata": {
  "kernelspec": {
   "display_name": "Python 3",
   "language": "python",
   "name": "python3"
  },
  "language_info": {
   "codemirror_mode": {
    "name": "ipython",
    "version": 3
   },
   "file_extension": ".py",
   "mimetype": "text/x-python",
   "name": "python",
   "nbconvert_exporter": "python",
   "pygments_lexer": "ipython3",
   "version": "3.9.5"
  }
 },
 "nbformat": 4,
 "nbformat_minor": 5
}
