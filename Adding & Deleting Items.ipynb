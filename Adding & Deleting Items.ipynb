{
 "cells": [
  {
   "cell_type": "markdown",
   "id": "4e1bcd25",
   "metadata": {},
   "source": [
    "# Assignment 1 - JSON Based Inventory Management System - PART 1"
   ]
  },
  {
   "cell_type": "markdown",
   "id": "43fe80f5",
   "metadata": {},
   "source": [
    "### Importing JSON Python Library/ Module/ Built-in Package"
   ]
  },
  {
   "cell_type": "code",
   "execution_count": 1,
   "id": "9a95f9a1",
   "metadata": {},
   "outputs": [],
   "source": [
    "import json"
   ]
  },
  {
   "cell_type": "markdown",
   "id": "94162409",
   "metadata": {},
   "source": [
    "### Total 30 items in dictionary for the use of IMS\n",
    "### Note: Price is measured in Rupees & Weight is measured in Grams"
   ]
  },
  {
   "cell_type": "code",
   "execution_count": 2,
   "id": "38d46ab7",
   "metadata": {},
   "outputs": [],
   "source": [
    "record = {  '1001': {\"Item\": \"Airpods\", \"Price\": 1299, \"Quantity\": 100, \"Weight\": 5 ,\"Color\": \"White\"},\n",
    "            '1002': {\"Item\": \"Shoes\", \"Price\": 3595, \"Quantity\": 200, \"Weight\": 800 ,\"Color\": \"Grey\"},\n",
    "            '1003': {\"Item\": \"Spectacles\", \"Price\": 999, \"Quantity\": 150, \"Weight\": 20 ,\"Color\": \"Blue\"},\n",
    "            '1004': {\"Item\": \"Camera\", \"Price\": 30685, \"Quantity\": 75, \"Weight\": 386 ,\"Color\": \"Black\"},\n",
    "            '1005': {\"Item\": \"Jacket\", \"Price\": 1979, \"Quantity\": 50, \"Weight\": 1000 ,\"Color\": \"Blue & Yellow\"},\n",
    "            '1006': {\"Item\": \"Mobile\", \"Price\": 5000, \"Quantity\": 250, \"Weight\": 140 ,\"Color\": \"Red\"},\n",
    "            '1007': {\"Item\": \"T-Shirt\", \"Price\": 300, \"Quantity\": 500, \"Weight\": 130 ,\"Color\": \"Pink\"},\n",
    "            '1008': {\"Item\": \"Headphones\", \"Price\": 6174, \"Quantity\": 40, \"Weight\": 15 ,\"Color\": \"White\"},\n",
    "            '1009': {\"Item\": \"Bag\", \"Price\": 3599, \"Quantity\": 220, \"Weight\": 4100 ,\"Color\": \"Golden\"},\n",
    "            '1010': {\"Item\": \"Kitkat\", \"Price\": 126, \"Quantity\": 500, \"Weight\": 41 ,\"Color\": \"Brown\"},\n",
    "            '1011': {\"Item\": \"Teddy Bear\", \"Price\": 1000, \"Quantity\": 20, \"Weight\": 612 ,\"Color\": \"Green\"},\n",
    "            '1012': {\"Item\": \"Biscuit\", \"Price\": 100, \"Quantity\": 55, \"Weight\": 50 ,\"Color\": \"Black\"},\n",
    "            '1013': {\"Item\": \"Cake\", \"Price\": 199, \"Quantity\": 160, \"Weight\": 500 ,\"Color\": \"Orange\"},\n",
    "            '1014': {\"Item\": \"Bottle\", \"Price\": 199, \"Quantity\": 620, \"Weight\": 10 ,\"Color\": \"White\"},\n",
    "            '1015': {\"Item\": \"Apple\", \"Price\": 125, \"Quantity\": 800, \"Weight\": 70 ,\"Color\": \"Red\"},\n",
    "            '1016': {\"Item\": \"Cricket Bat\", \"Price\": 1200, \"Quantity\": 700, \"Weight\": 1250 ,\"Color\": \"Brown\"},\n",
    "            '1017': {\"Item\": \"Pizza\", \"Price\": 99, \"Quantity\": 500, \"Weight\": 500 ,\"Color\": \"Yellow\"},\n",
    "            '1018': {\"Item\": \"Jeans\", \"Price\": 650, \"Quantity\": 610, \"Weight\": 890 ,\"Color\": \"Black\"},\n",
    "            '1019': {\"Item\": \"Mask\", \"Price\": 200, \"Quantity\": 720, \"Weight\": 4 ,\"Color\": \"Maroon\"},\n",
    "            '1020': {\"Item\": \"Necklace\", \"Price\": 18437, \"Quantity\": 400, \"Weight\": 30 ,\"Color\": \"Yellow\"},\n",
    "            '1021': {\"Item\": \"Ring\", \"Price\": 3112, \"Quantity\": 200, \"Weight\": 5 ,\"Color\": \"Golden\"},\n",
    "            '1022': {\"Item\": \"Football\", \"Price\": 1499, \"Quantity\": 560, \"Weight\": 5 ,\"Color\": \"Blue\"},\n",
    "            '1023': {\"Item\": \"Trophy\", \"Price\": 7899, \"Quantity\": 150, \"Weight\": 6175 ,\"Color\": \"Brown & Yellow\"},\n",
    "            '1024': {\"Item\": \"Detergent\", \"Price\": 199, \"Quantity\": 320, \"Weight\": 500 ,\"Color\": \"White\"},\n",
    "            '1025': {\"Item\": \"Tea Cup\", \"Price\": 23, \"Quantity\": 200, \"Weight\": 92 ,\"Color\": \"Red & White\"},\n",
    "            '1026': {\"Item\": \"Bangles\", \"Price\": 30000, \"Quantity\": 400, \"Weight\": 50,\"Color\": \"Cyan\"},\n",
    "            '1027': {\"Item\": \"Photo Frame\", \"Price\": 3550, \"Quantity\": 180, \"Weight\": 123 ,\"Color\": \"Purple\"},\n",
    "            '1028': {\"Item\": \"Medicine\", \"Price\": 876, \"Quantity\": 670, \"Weight\": 200 ,\"Color\": \"Orange\"},\n",
    "            '1029': {\"Item\": \"Umbrella\", \"Price\": 2045, \"Quantity\": 110, \"Weight\": 289 ,\"Color\": \"Violet\"},\n",
    "            '1030': {\"Item\": \"Cosmetics\", \"Price\": 699, \"Quantity\": 840, \"Weight\": 699 ,\"Color\": \"Pink\"}\n",
    "        }"
   ]
  },
  {
   "cell_type": "markdown",
   "id": "cb90cfaa",
   "metadata": {},
   "source": [
    "### Converting Dictionary to String"
   ]
  },
  {
   "cell_type": "code",
   "execution_count": 3,
   "id": "e8fd6473",
   "metadata": {},
   "outputs": [],
   "source": [
    "js = json.dumps(record)"
   ]
  },
  {
   "cell_type": "markdown",
   "id": "31f877bf",
   "metadata": {},
   "source": [
    "### Printing the String"
   ]
  },
  {
   "cell_type": "code",
   "execution_count": 4,
   "id": "a35d8e0b",
   "metadata": {},
   "outputs": [
    {
     "data": {
      "text/plain": [
       "'{\"1001\": {\"Item\": \"Airpods\", \"Price\": 1299, \"Quantity\": 100, \"Weight\": 5, \"Color\": \"White\"}, \"1002\": {\"Item\": \"Shoes\", \"Price\": 3595, \"Quantity\": 200, \"Weight\": 800, \"Color\": \"Grey\"}, \"1003\": {\"Item\": \"Spectacles\", \"Price\": 999, \"Quantity\": 150, \"Weight\": 20, \"Color\": \"Blue\"}, \"1004\": {\"Item\": \"Camera\", \"Price\": 30685, \"Quantity\": 75, \"Weight\": 386, \"Color\": \"Black\"}, \"1005\": {\"Item\": \"Jacket\", \"Price\": 1979, \"Quantity\": 50, \"Weight\": 1000, \"Color\": \"Blue & Yellow\"}, \"1006\": {\"Item\": \"Mobile\", \"Price\": 5000, \"Quantity\": 250, \"Weight\": 140, \"Color\": \"Red\"}, \"1007\": {\"Item\": \"T-Shirt\", \"Price\": 300, \"Quantity\": 500, \"Weight\": 130, \"Color\": \"Pink\"}, \"1008\": {\"Item\": \"Headphones\", \"Price\": 6174, \"Quantity\": 40, \"Weight\": 15, \"Color\": \"White\"}, \"1009\": {\"Item\": \"Bag\", \"Price\": 3599, \"Quantity\": 220, \"Weight\": 4100, \"Color\": \"Golden\"}, \"1010\": {\"Item\": \"Kitkat\", \"Price\": 126, \"Quantity\": 500, \"Weight\": 41, \"Color\": \"Brown\"}, \"1011\": {\"Item\": \"Teddy Bear\", \"Price\": 1000, \"Quantity\": 20, \"Weight\": 612, \"Color\": \"Green\"}, \"1012\": {\"Item\": \"Biscuit\", \"Price\": 100, \"Quantity\": 55, \"Weight\": 50, \"Color\": \"Black\"}, \"1013\": {\"Item\": \"Cake\", \"Price\": 199, \"Quantity\": 160, \"Weight\": 500, \"Color\": \"Orange\"}, \"1014\": {\"Item\": \"Bottle\", \"Price\": 199, \"Quantity\": 620, \"Weight\": 10, \"Color\": \"White\"}, \"1015\": {\"Item\": \"Apple\", \"Price\": 125, \"Quantity\": 800, \"Weight\": 70, \"Color\": \"Red\"}, \"1016\": {\"Item\": \"Cricket Bat\", \"Price\": 1200, \"Quantity\": 700, \"Weight\": 1250, \"Color\": \"Brown\"}, \"1017\": {\"Item\": \"Pizza\", \"Price\": 99, \"Quantity\": 500, \"Weight\": 500, \"Color\": \"Yellow\"}, \"1018\": {\"Item\": \"Jeans\", \"Price\": 650, \"Quantity\": 610, \"Weight\": 890, \"Color\": \"Black\"}, \"1019\": {\"Item\": \"Mask\", \"Price\": 200, \"Quantity\": 720, \"Weight\": 4, \"Color\": \"Maroon\"}, \"1020\": {\"Item\": \"Necklace\", \"Price\": 18437, \"Quantity\": 400, \"Weight\": 30, \"Color\": \"Yellow\"}, \"1021\": {\"Item\": \"Ring\", \"Price\": 3112, \"Quantity\": 200, \"Weight\": 5, \"Color\": \"Golden\"}, \"1022\": {\"Item\": \"Football\", \"Price\": 1499, \"Quantity\": 560, \"Weight\": 5, \"Color\": \"Blue\"}, \"1023\": {\"Item\": \"Trophy\", \"Price\": 7899, \"Quantity\": 150, \"Weight\": 6175, \"Color\": \"Brown & Yellow\"}, \"1024\": {\"Item\": \"Detergent\", \"Price\": 199, \"Quantity\": 320, \"Weight\": 500, \"Color\": \"White\"}, \"1025\": {\"Item\": \"Tea Cup\", \"Price\": 23, \"Quantity\": 200, \"Weight\": 92, \"Color\": \"Red & White\"}, \"1026\": {\"Item\": \"Bangles\", \"Price\": 30000, \"Quantity\": 400, \"Weight\": 50, \"Color\": \"Cyan\"}, \"1027\": {\"Item\": \"Photo Frame\", \"Price\": 3550, \"Quantity\": 180, \"Weight\": 123, \"Color\": \"Purple\"}, \"1028\": {\"Item\": \"Medicine\", \"Price\": 876, \"Quantity\": 670, \"Weight\": 200, \"Color\": \"Orange\"}, \"1029\": {\"Item\": \"Umbrella\", \"Price\": 2045, \"Quantity\": 110, \"Weight\": 289, \"Color\": \"Violet\"}, \"1030\": {\"Item\": \"Cosmetics\", \"Price\": 699, \"Quantity\": 840, \"Weight\": 699, \"Color\": \"Pink\"}}'"
      ]
     },
     "execution_count": 4,
     "metadata": {},
     "output_type": "execute_result"
    }
   ],
   "source": [
    "js"
   ]
  },
  {
   "cell_type": "markdown",
   "id": "bed56e39",
   "metadata": {},
   "source": [
    "### Printing the Dictionary"
   ]
  },
  {
   "cell_type": "code",
   "execution_count": 5,
   "id": "0bbbd535",
   "metadata": {},
   "outputs": [
    {
     "data": {
      "text/plain": [
       "{'1001': {'Item': 'Airpods',\n",
       "  'Price': 1299,\n",
       "  'Quantity': 100,\n",
       "  'Weight': 5,\n",
       "  'Color': 'White'},\n",
       " '1002': {'Item': 'Shoes',\n",
       "  'Price': 3595,\n",
       "  'Quantity': 200,\n",
       "  'Weight': 800,\n",
       "  'Color': 'Grey'},\n",
       " '1003': {'Item': 'Spectacles',\n",
       "  'Price': 999,\n",
       "  'Quantity': 150,\n",
       "  'Weight': 20,\n",
       "  'Color': 'Blue'},\n",
       " '1004': {'Item': 'Camera',\n",
       "  'Price': 30685,\n",
       "  'Quantity': 75,\n",
       "  'Weight': 386,\n",
       "  'Color': 'Black'},\n",
       " '1005': {'Item': 'Jacket',\n",
       "  'Price': 1979,\n",
       "  'Quantity': 50,\n",
       "  'Weight': 1000,\n",
       "  'Color': 'Blue & Yellow'},\n",
       " '1006': {'Item': 'Mobile',\n",
       "  'Price': 5000,\n",
       "  'Quantity': 250,\n",
       "  'Weight': 140,\n",
       "  'Color': 'Red'},\n",
       " '1007': {'Item': 'T-Shirt',\n",
       "  'Price': 300,\n",
       "  'Quantity': 500,\n",
       "  'Weight': 130,\n",
       "  'Color': 'Pink'},\n",
       " '1008': {'Item': 'Headphones',\n",
       "  'Price': 6174,\n",
       "  'Quantity': 40,\n",
       "  'Weight': 15,\n",
       "  'Color': 'White'},\n",
       " '1009': {'Item': 'Bag',\n",
       "  'Price': 3599,\n",
       "  'Quantity': 220,\n",
       "  'Weight': 4100,\n",
       "  'Color': 'Golden'},\n",
       " '1010': {'Item': 'Kitkat',\n",
       "  'Price': 126,\n",
       "  'Quantity': 500,\n",
       "  'Weight': 41,\n",
       "  'Color': 'Brown'},\n",
       " '1011': {'Item': 'Teddy Bear',\n",
       "  'Price': 1000,\n",
       "  'Quantity': 20,\n",
       "  'Weight': 612,\n",
       "  'Color': 'Green'},\n",
       " '1012': {'Item': 'Biscuit',\n",
       "  'Price': 100,\n",
       "  'Quantity': 55,\n",
       "  'Weight': 50,\n",
       "  'Color': 'Black'},\n",
       " '1013': {'Item': 'Cake',\n",
       "  'Price': 199,\n",
       "  'Quantity': 160,\n",
       "  'Weight': 500,\n",
       "  'Color': 'Orange'},\n",
       " '1014': {'Item': 'Bottle',\n",
       "  'Price': 199,\n",
       "  'Quantity': 620,\n",
       "  'Weight': 10,\n",
       "  'Color': 'White'},\n",
       " '1015': {'Item': 'Apple',\n",
       "  'Price': 125,\n",
       "  'Quantity': 800,\n",
       "  'Weight': 70,\n",
       "  'Color': 'Red'},\n",
       " '1016': {'Item': 'Cricket Bat',\n",
       "  'Price': 1200,\n",
       "  'Quantity': 700,\n",
       "  'Weight': 1250,\n",
       "  'Color': 'Brown'},\n",
       " '1017': {'Item': 'Pizza',\n",
       "  'Price': 99,\n",
       "  'Quantity': 500,\n",
       "  'Weight': 500,\n",
       "  'Color': 'Yellow'},\n",
       " '1018': {'Item': 'Jeans',\n",
       "  'Price': 650,\n",
       "  'Quantity': 610,\n",
       "  'Weight': 890,\n",
       "  'Color': 'Black'},\n",
       " '1019': {'Item': 'Mask',\n",
       "  'Price': 200,\n",
       "  'Quantity': 720,\n",
       "  'Weight': 4,\n",
       "  'Color': 'Maroon'},\n",
       " '1020': {'Item': 'Necklace',\n",
       "  'Price': 18437,\n",
       "  'Quantity': 400,\n",
       "  'Weight': 30,\n",
       "  'Color': 'Yellow'},\n",
       " '1021': {'Item': 'Ring',\n",
       "  'Price': 3112,\n",
       "  'Quantity': 200,\n",
       "  'Weight': 5,\n",
       "  'Color': 'Golden'},\n",
       " '1022': {'Item': 'Football',\n",
       "  'Price': 1499,\n",
       "  'Quantity': 560,\n",
       "  'Weight': 5,\n",
       "  'Color': 'Blue'},\n",
       " '1023': {'Item': 'Trophy',\n",
       "  'Price': 7899,\n",
       "  'Quantity': 150,\n",
       "  'Weight': 6175,\n",
       "  'Color': 'Brown & Yellow'},\n",
       " '1024': {'Item': 'Detergent',\n",
       "  'Price': 199,\n",
       "  'Quantity': 320,\n",
       "  'Weight': 500,\n",
       "  'Color': 'White'},\n",
       " '1025': {'Item': 'Tea Cup',\n",
       "  'Price': 23,\n",
       "  'Quantity': 200,\n",
       "  'Weight': 92,\n",
       "  'Color': 'Red & White'},\n",
       " '1026': {'Item': 'Bangles',\n",
       "  'Price': 30000,\n",
       "  'Quantity': 400,\n",
       "  'Weight': 50,\n",
       "  'Color': 'Cyan'},\n",
       " '1027': {'Item': 'Photo Frame',\n",
       "  'Price': 3550,\n",
       "  'Quantity': 180,\n",
       "  'Weight': 123,\n",
       "  'Color': 'Purple'},\n",
       " '1028': {'Item': 'Medicine',\n",
       "  'Price': 876,\n",
       "  'Quantity': 670,\n",
       "  'Weight': 200,\n",
       "  'Color': 'Orange'},\n",
       " '1029': {'Item': 'Umbrella',\n",
       "  'Price': 2045,\n",
       "  'Quantity': 110,\n",
       "  'Weight': 289,\n",
       "  'Color': 'Violet'},\n",
       " '1030': {'Item': 'Cosmetics',\n",
       "  'Price': 699,\n",
       "  'Quantity': 840,\n",
       "  'Weight': 699,\n",
       "  'Color': 'Pink'}}"
      ]
     },
     "execution_count": 5,
     "metadata": {},
     "output_type": "execute_result"
    }
   ],
   "source": [
    "record"
   ]
  },
  {
   "cell_type": "markdown",
   "id": "afab9c9f",
   "metadata": {},
   "source": [
    "### Below checking Data Type of js & record"
   ]
  },
  {
   "cell_type": "code",
   "execution_count": 6,
   "id": "88bbea5d",
   "metadata": {},
   "outputs": [
    {
     "data": {
      "text/plain": [
       "str"
      ]
     },
     "execution_count": 6,
     "metadata": {},
     "output_type": "execute_result"
    }
   ],
   "source": [
    "type(js)"
   ]
  },
  {
   "cell_type": "code",
   "execution_count": 7,
   "id": "99231c79",
   "metadata": {},
   "outputs": [
    {
     "data": {
      "text/plain": [
       "dict"
      ]
     },
     "execution_count": 7,
     "metadata": {},
     "output_type": "execute_result"
    }
   ],
   "source": [
    "type(record)"
   ]
  },
  {
   "cell_type": "markdown",
   "id": "9802bfe6",
   "metadata": {},
   "source": [
    "### Writing new data into JSON file & then closing it, so that the all 30 items will be saved"
   ]
  },
  {
   "cell_type": "code",
   "execution_count": 8,
   "id": "db047d97",
   "metadata": {},
   "outputs": [],
   "source": [
    "fd = open(\"record.json\",'w')\n",
    "fd.write(js)\n",
    "fd.close()"
   ]
  },
  {
   "cell_type": "markdown",
   "id": "db4dbcfb",
   "metadata": {},
   "source": [
    "### Reading data into JSON file & then closing it "
   ]
  },
  {
   "cell_type": "code",
   "execution_count": 9,
   "id": "ec61cba9",
   "metadata": {},
   "outputs": [],
   "source": [
    "fd = open(\"record.json\",'r')\n",
    "r = fd.read()\n",
    "fd.close()\n",
    "record = json.loads(r)"
   ]
  },
  {
   "cell_type": "code",
   "execution_count": 10,
   "id": "8745fbd5",
   "metadata": {},
   "outputs": [
    {
     "data": {
      "text/plain": [
       "'{\"1001\": {\"Item\": \"Airpods\", \"Price\": 1299, \"Quantity\": 100, \"Weight\": 5, \"Color\": \"White\"}, \"1002\": {\"Item\": \"Shoes\", \"Price\": 3595, \"Quantity\": 200, \"Weight\": 800, \"Color\": \"Grey\"}, \"1003\": {\"Item\": \"Spectacles\", \"Price\": 999, \"Quantity\": 150, \"Weight\": 20, \"Color\": \"Blue\"}, \"1004\": {\"Item\": \"Camera\", \"Price\": 30685, \"Quantity\": 75, \"Weight\": 386, \"Color\": \"Black\"}, \"1005\": {\"Item\": \"Jacket\", \"Price\": 1979, \"Quantity\": 50, \"Weight\": 1000, \"Color\": \"Blue & Yellow\"}, \"1006\": {\"Item\": \"Mobile\", \"Price\": 5000, \"Quantity\": 250, \"Weight\": 140, \"Color\": \"Red\"}, \"1007\": {\"Item\": \"T-Shirt\", \"Price\": 300, \"Quantity\": 500, \"Weight\": 130, \"Color\": \"Pink\"}, \"1008\": {\"Item\": \"Headphones\", \"Price\": 6174, \"Quantity\": 40, \"Weight\": 15, \"Color\": \"White\"}, \"1009\": {\"Item\": \"Bag\", \"Price\": 3599, \"Quantity\": 220, \"Weight\": 4100, \"Color\": \"Golden\"}, \"1010\": {\"Item\": \"Kitkat\", \"Price\": 126, \"Quantity\": 500, \"Weight\": 41, \"Color\": \"Brown\"}, \"1011\": {\"Item\": \"Teddy Bear\", \"Price\": 1000, \"Quantity\": 20, \"Weight\": 612, \"Color\": \"Green\"}, \"1012\": {\"Item\": \"Biscuit\", \"Price\": 100, \"Quantity\": 55, \"Weight\": 50, \"Color\": \"Black\"}, \"1013\": {\"Item\": \"Cake\", \"Price\": 199, \"Quantity\": 160, \"Weight\": 500, \"Color\": \"Orange\"}, \"1014\": {\"Item\": \"Bottle\", \"Price\": 199, \"Quantity\": 620, \"Weight\": 10, \"Color\": \"White\"}, \"1015\": {\"Item\": \"Apple\", \"Price\": 125, \"Quantity\": 800, \"Weight\": 70, \"Color\": \"Red\"}, \"1016\": {\"Item\": \"Cricket Bat\", \"Price\": 1200, \"Quantity\": 700, \"Weight\": 1250, \"Color\": \"Brown\"}, \"1017\": {\"Item\": \"Pizza\", \"Price\": 99, \"Quantity\": 500, \"Weight\": 500, \"Color\": \"Yellow\"}, \"1018\": {\"Item\": \"Jeans\", \"Price\": 650, \"Quantity\": 610, \"Weight\": 890, \"Color\": \"Black\"}, \"1019\": {\"Item\": \"Mask\", \"Price\": 200, \"Quantity\": 720, \"Weight\": 4, \"Color\": \"Maroon\"}, \"1020\": {\"Item\": \"Necklace\", \"Price\": 18437, \"Quantity\": 400, \"Weight\": 30, \"Color\": \"Yellow\"}, \"1021\": {\"Item\": \"Ring\", \"Price\": 3112, \"Quantity\": 200, \"Weight\": 5, \"Color\": \"Golden\"}, \"1022\": {\"Item\": \"Football\", \"Price\": 1499, \"Quantity\": 560, \"Weight\": 5, \"Color\": \"Blue\"}, \"1023\": {\"Item\": \"Trophy\", \"Price\": 7899, \"Quantity\": 150, \"Weight\": 6175, \"Color\": \"Brown & Yellow\"}, \"1024\": {\"Item\": \"Detergent\", \"Price\": 199, \"Quantity\": 320, \"Weight\": 500, \"Color\": \"White\"}, \"1025\": {\"Item\": \"Tea Cup\", \"Price\": 23, \"Quantity\": 200, \"Weight\": 92, \"Color\": \"Red & White\"}, \"1026\": {\"Item\": \"Bangles\", \"Price\": 30000, \"Quantity\": 400, \"Weight\": 50, \"Color\": \"Cyan\"}, \"1027\": {\"Item\": \"Photo Frame\", \"Price\": 3550, \"Quantity\": 180, \"Weight\": 123, \"Color\": \"Purple\"}, \"1028\": {\"Item\": \"Medicine\", \"Price\": 876, \"Quantity\": 670, \"Weight\": 200, \"Color\": \"Orange\"}, \"1029\": {\"Item\": \"Umbrella\", \"Price\": 2045, \"Quantity\": 110, \"Weight\": 289, \"Color\": \"Violet\"}, \"1030\": {\"Item\": \"Cosmetics\", \"Price\": 699, \"Quantity\": 840, \"Weight\": 699, \"Color\": \"Pink\"}}'"
      ]
     },
     "execution_count": 10,
     "metadata": {},
     "output_type": "execute_result"
    }
   ],
   "source": [
    "r"
   ]
  },
  {
   "cell_type": "markdown",
   "id": "82131901",
   "metadata": {},
   "source": [
    "### Adding New Items into Inventory i.e. prod_id = 1031, 1032, 1033, 1034 & 1035"
   ]
  },
  {
   "cell_type": "code",
   "execution_count": 11,
   "id": "92fb331b",
   "metadata": {},
   "outputs": [
    {
     "name": "stdout",
     "output_type": "stream",
     "text": [
      "Enter product id:1031\n",
      "Enter Item:Hand Gloves\n",
      "Enter Price:1500\n",
      "Enter Quantity:68\n",
      "Enter Weight:45\n",
      "Enter Color:Brown\n"
     ]
    }
   ],
   "source": [
    "prod_id = str(input(\"Enter product id:\"))\n",
    "Item = str(input(\"Enter Item:\"))\n",
    "Price = int(input(\"Enter Price:\"))\n",
    "Quantity = int(input(\"Enter Quantity:\"))\n",
    "Weight = int(input(\"Enter Weight:\"))\n",
    "Color = str(input(\"Enter Color:\"))\n",
    "\n",
    "record[prod_id] = {'Item': Item, 'Price': Price, 'Quantity': Quantity, 'Weight': Weight, 'Color': Color}\n",
    "\n",
    "js = json.dumps(record)\n",
    "\n",
    "fd = open(\"record.json\",'w')\n",
    "fd.write(js)\n",
    "fd.close()"
   ]
  },
  {
   "cell_type": "code",
   "execution_count": 12,
   "id": "5477871e",
   "metadata": {},
   "outputs": [
    {
     "name": "stdout",
     "output_type": "stream",
     "text": [
      "Enter product id:1032\n",
      "Enter Item:Bulb\n",
      "Enter Price:50\n",
      "Enter Quantity:200\n",
      "Enter Weight:10\n",
      "Enter Color:White\n"
     ]
    }
   ],
   "source": [
    "prod_id = str(input(\"Enter product id:\"))\n",
    "Item = str(input(\"Enter Item:\"))\n",
    "Price = int(input(\"Enter Price:\"))\n",
    "Quantity = int(input(\"Enter Quantity:\"))\n",
    "Weight = int(input(\"Enter Weight:\"))\n",
    "Color = str(input(\"Enter Color:\"))\n",
    "\n",
    "record[prod_id] = {'Item': Item, 'Price': Price, 'Quantity': Quantity, 'Weight': Weight, 'Color': Color}\n",
    "\n",
    "js = json.dumps(record)\n",
    "\n",
    "fd = open(\"record.json\",'w')\n",
    "fd.write(js)\n",
    "fd.close()"
   ]
  },
  {
   "cell_type": "code",
   "execution_count": 13,
   "id": "fa57c409",
   "metadata": {},
   "outputs": [
    {
     "name": "stdout",
     "output_type": "stream",
     "text": [
      "Enter product id:1033\n",
      "Enter Item:Television\n",
      "Enter Price:50000\n",
      "Enter Quantity:200\n",
      "Enter Weight:15000\n",
      "Enter Color:Black\n"
     ]
    }
   ],
   "source": [
    "prod_id = str(input(\"Enter product id:\"))\n",
    "Item = str(input(\"Enter Item:\"))\n",
    "Price = int(input(\"Enter Price:\"))\n",
    "Quantity = int(input(\"Enter Quantity:\"))\n",
    "Weight = int(input(\"Enter Weight:\"))\n",
    "Color = str(input(\"Enter Color:\"))\n",
    "\n",
    "record[prod_id] = {'Item': Item, 'Price': Price, 'Quantity': Quantity, 'Weight': Weight, 'Color': Color}\n",
    "\n",
    "js = json.dumps(record)\n",
    "\n",
    "fd = open(\"record.json\",'w')\n",
    "fd.write(js)\n",
    "fd.close()"
   ]
  },
  {
   "cell_type": "code",
   "execution_count": 14,
   "id": "c08f3cd2",
   "metadata": {},
   "outputs": [
    {
     "name": "stdout",
     "output_type": "stream",
     "text": [
      "Enter product id:1034\n",
      "Enter Item:Air Conditioner\n",
      "Enter Price:25000\n",
      "Enter Quantity:423\n",
      "Enter Weight:14750\n",
      "Enter Color:Magenta\n"
     ]
    }
   ],
   "source": [
    "prod_id = str(input(\"Enter product id:\"))\n",
    "Item = str(input(\"Enter Item:\"))\n",
    "Price = int(input(\"Enter Price:\"))\n",
    "Quantity = int(input(\"Enter Quantity:\"))\n",
    "Weight = int(input(\"Enter Weight:\"))\n",
    "Color = str(input(\"Enter Color:\"))\n",
    "\n",
    "record[prod_id] = {'Item': Item, 'Price': Price, 'Quantity': Quantity, 'Weight': Weight, 'Color': Color}\n",
    "\n",
    "js = json.dumps(record)\n",
    "\n",
    "fd = open(\"record.json\",'w')\n",
    "fd.write(js)\n",
    "fd.close()"
   ]
  },
  {
   "cell_type": "code",
   "execution_count": 15,
   "id": "4916892a",
   "metadata": {},
   "outputs": [
    {
     "name": "stdout",
     "output_type": "stream",
     "text": [
      "Enter product id:1035\n",
      "Enter Item:Fan\n",
      "Enter Price:8000\n",
      "Enter Quantity:98\n",
      "Enter Weight:1530\n",
      "Enter Color:Red\n"
     ]
    }
   ],
   "source": [
    "prod_id = str(input(\"Enter product id:\"))\n",
    "Item = str(input(\"Enter Item:\"))\n",
    "Price = int(input(\"Enter Price:\"))\n",
    "Quantity = int(input(\"Enter Quantity:\"))\n",
    "Weight = int(input(\"Enter Weight:\"))\n",
    "Color = str(input(\"Enter Color:\"))\n",
    "\n",
    "record[prod_id] = {'Item': Item, 'Price': Price, 'Quantity': Quantity, 'Weight': Weight, 'Color': Color}\n",
    "\n",
    "js = json.dumps(record)\n",
    "\n",
    "fd = open(\"record.json\",'w')\n",
    "fd.write(js)\n",
    "fd.close()"
   ]
  },
  {
   "cell_type": "markdown",
   "id": "4c421c33",
   "metadata": {},
   "source": [
    "### Now checking for the Updated records (All 5 records are Successfully Added)"
   ]
  },
  {
   "cell_type": "code",
   "execution_count": 16,
   "id": "5a6eb6be",
   "metadata": {},
   "outputs": [
    {
     "data": {
      "text/plain": [
       "{'1001': {'Item': 'Airpods',\n",
       "  'Price': 1299,\n",
       "  'Quantity': 100,\n",
       "  'Weight': 5,\n",
       "  'Color': 'White'},\n",
       " '1002': {'Item': 'Shoes',\n",
       "  'Price': 3595,\n",
       "  'Quantity': 200,\n",
       "  'Weight': 800,\n",
       "  'Color': 'Grey'},\n",
       " '1003': {'Item': 'Spectacles',\n",
       "  'Price': 999,\n",
       "  'Quantity': 150,\n",
       "  'Weight': 20,\n",
       "  'Color': 'Blue'},\n",
       " '1004': {'Item': 'Camera',\n",
       "  'Price': 30685,\n",
       "  'Quantity': 75,\n",
       "  'Weight': 386,\n",
       "  'Color': 'Black'},\n",
       " '1005': {'Item': 'Jacket',\n",
       "  'Price': 1979,\n",
       "  'Quantity': 50,\n",
       "  'Weight': 1000,\n",
       "  'Color': 'Blue & Yellow'},\n",
       " '1006': {'Item': 'Mobile',\n",
       "  'Price': 5000,\n",
       "  'Quantity': 250,\n",
       "  'Weight': 140,\n",
       "  'Color': 'Red'},\n",
       " '1007': {'Item': 'T-Shirt',\n",
       "  'Price': 300,\n",
       "  'Quantity': 500,\n",
       "  'Weight': 130,\n",
       "  'Color': 'Pink'},\n",
       " '1008': {'Item': 'Headphones',\n",
       "  'Price': 6174,\n",
       "  'Quantity': 40,\n",
       "  'Weight': 15,\n",
       "  'Color': 'White'},\n",
       " '1009': {'Item': 'Bag',\n",
       "  'Price': 3599,\n",
       "  'Quantity': 220,\n",
       "  'Weight': 4100,\n",
       "  'Color': 'Golden'},\n",
       " '1010': {'Item': 'Kitkat',\n",
       "  'Price': 126,\n",
       "  'Quantity': 500,\n",
       "  'Weight': 41,\n",
       "  'Color': 'Brown'},\n",
       " '1011': {'Item': 'Teddy Bear',\n",
       "  'Price': 1000,\n",
       "  'Quantity': 20,\n",
       "  'Weight': 612,\n",
       "  'Color': 'Green'},\n",
       " '1012': {'Item': 'Biscuit',\n",
       "  'Price': 100,\n",
       "  'Quantity': 55,\n",
       "  'Weight': 50,\n",
       "  'Color': 'Black'},\n",
       " '1013': {'Item': 'Cake',\n",
       "  'Price': 199,\n",
       "  'Quantity': 160,\n",
       "  'Weight': 500,\n",
       "  'Color': 'Orange'},\n",
       " '1014': {'Item': 'Bottle',\n",
       "  'Price': 199,\n",
       "  'Quantity': 620,\n",
       "  'Weight': 10,\n",
       "  'Color': 'White'},\n",
       " '1015': {'Item': 'Apple',\n",
       "  'Price': 125,\n",
       "  'Quantity': 800,\n",
       "  'Weight': 70,\n",
       "  'Color': 'Red'},\n",
       " '1016': {'Item': 'Cricket Bat',\n",
       "  'Price': 1200,\n",
       "  'Quantity': 700,\n",
       "  'Weight': 1250,\n",
       "  'Color': 'Brown'},\n",
       " '1017': {'Item': 'Pizza',\n",
       "  'Price': 99,\n",
       "  'Quantity': 500,\n",
       "  'Weight': 500,\n",
       "  'Color': 'Yellow'},\n",
       " '1018': {'Item': 'Jeans',\n",
       "  'Price': 650,\n",
       "  'Quantity': 610,\n",
       "  'Weight': 890,\n",
       "  'Color': 'Black'},\n",
       " '1019': {'Item': 'Mask',\n",
       "  'Price': 200,\n",
       "  'Quantity': 720,\n",
       "  'Weight': 4,\n",
       "  'Color': 'Maroon'},\n",
       " '1020': {'Item': 'Necklace',\n",
       "  'Price': 18437,\n",
       "  'Quantity': 400,\n",
       "  'Weight': 30,\n",
       "  'Color': 'Yellow'},\n",
       " '1021': {'Item': 'Ring',\n",
       "  'Price': 3112,\n",
       "  'Quantity': 200,\n",
       "  'Weight': 5,\n",
       "  'Color': 'Golden'},\n",
       " '1022': {'Item': 'Football',\n",
       "  'Price': 1499,\n",
       "  'Quantity': 560,\n",
       "  'Weight': 5,\n",
       "  'Color': 'Blue'},\n",
       " '1023': {'Item': 'Trophy',\n",
       "  'Price': 7899,\n",
       "  'Quantity': 150,\n",
       "  'Weight': 6175,\n",
       "  'Color': 'Brown & Yellow'},\n",
       " '1024': {'Item': 'Detergent',\n",
       "  'Price': 199,\n",
       "  'Quantity': 320,\n",
       "  'Weight': 500,\n",
       "  'Color': 'White'},\n",
       " '1025': {'Item': 'Tea Cup',\n",
       "  'Price': 23,\n",
       "  'Quantity': 200,\n",
       "  'Weight': 92,\n",
       "  'Color': 'Red & White'},\n",
       " '1026': {'Item': 'Bangles',\n",
       "  'Price': 30000,\n",
       "  'Quantity': 400,\n",
       "  'Weight': 50,\n",
       "  'Color': 'Cyan'},\n",
       " '1027': {'Item': 'Photo Frame',\n",
       "  'Price': 3550,\n",
       "  'Quantity': 180,\n",
       "  'Weight': 123,\n",
       "  'Color': 'Purple'},\n",
       " '1028': {'Item': 'Medicine',\n",
       "  'Price': 876,\n",
       "  'Quantity': 670,\n",
       "  'Weight': 200,\n",
       "  'Color': 'Orange'},\n",
       " '1029': {'Item': 'Umbrella',\n",
       "  'Price': 2045,\n",
       "  'Quantity': 110,\n",
       "  'Weight': 289,\n",
       "  'Color': 'Violet'},\n",
       " '1030': {'Item': 'Cosmetics',\n",
       "  'Price': 699,\n",
       "  'Quantity': 840,\n",
       "  'Weight': 699,\n",
       "  'Color': 'Pink'},\n",
       " '1031': {'Item': 'Hand Gloves',\n",
       "  'Price': 1500,\n",
       "  'Quantity': 68,\n",
       "  'Weight': 45,\n",
       "  'Color': 'Brown'},\n",
       " '1032': {'Item': 'Bulb',\n",
       "  'Price': 50,\n",
       "  'Quantity': 200,\n",
       "  'Weight': 10,\n",
       "  'Color': 'White'},\n",
       " '1033': {'Item': 'Television',\n",
       "  'Price': 50000,\n",
       "  'Quantity': 200,\n",
       "  'Weight': 15000,\n",
       "  'Color': 'Black'},\n",
       " '1034': {'Item': 'Air Conditioner',\n",
       "  'Price': 25000,\n",
       "  'Quantity': 423,\n",
       "  'Weight': 14750,\n",
       "  'Color': 'Magenta'},\n",
       " '1035': {'Item': 'Fan',\n",
       "  'Price': 8000,\n",
       "  'Quantity': 98,\n",
       "  'Weight': 1530,\n",
       "  'Color': 'Red'}}"
      ]
     },
     "execution_count": 16,
     "metadata": {},
     "output_type": "execute_result"
    }
   ],
   "source": [
    "record"
   ]
  },
  {
   "cell_type": "markdown",
   "id": "1a88a80f",
   "metadata": {},
   "source": [
    "### Deleting all the new records created i.e. prod_id = 1031 to 1035"
   ]
  },
  {
   "cell_type": "code",
   "execution_count": 17,
   "id": "8573e8ad",
   "metadata": {},
   "outputs": [],
   "source": [
    "del record['1031']"
   ]
  },
  {
   "cell_type": "code",
   "execution_count": 18,
   "id": "da9a70a8",
   "metadata": {},
   "outputs": [],
   "source": [
    "del record['1032']"
   ]
  },
  {
   "cell_type": "code",
   "execution_count": 19,
   "id": "89dd8426",
   "metadata": {},
   "outputs": [],
   "source": [
    "del record['1033']"
   ]
  },
  {
   "cell_type": "code",
   "execution_count": 20,
   "id": "fb0fd14c",
   "metadata": {},
   "outputs": [],
   "source": [
    "del record['1034']"
   ]
  },
  {
   "cell_type": "code",
   "execution_count": 21,
   "id": "ab376887",
   "metadata": {},
   "outputs": [],
   "source": [
    "del record['1035']"
   ]
  },
  {
   "cell_type": "markdown",
   "id": "aa190915",
   "metadata": {},
   "source": [
    "### Now checking whether the records are Deleted or not (The Selected records are Successfully Deleted)"
   ]
  },
  {
   "cell_type": "code",
   "execution_count": 22,
   "id": "d05858e6",
   "metadata": {},
   "outputs": [
    {
     "data": {
      "text/plain": [
       "{'1001': {'Item': 'Airpods',\n",
       "  'Price': 1299,\n",
       "  'Quantity': 100,\n",
       "  'Weight': 5,\n",
       "  'Color': 'White'},\n",
       " '1002': {'Item': 'Shoes',\n",
       "  'Price': 3595,\n",
       "  'Quantity': 200,\n",
       "  'Weight': 800,\n",
       "  'Color': 'Grey'},\n",
       " '1003': {'Item': 'Spectacles',\n",
       "  'Price': 999,\n",
       "  'Quantity': 150,\n",
       "  'Weight': 20,\n",
       "  'Color': 'Blue'},\n",
       " '1004': {'Item': 'Camera',\n",
       "  'Price': 30685,\n",
       "  'Quantity': 75,\n",
       "  'Weight': 386,\n",
       "  'Color': 'Black'},\n",
       " '1005': {'Item': 'Jacket',\n",
       "  'Price': 1979,\n",
       "  'Quantity': 50,\n",
       "  'Weight': 1000,\n",
       "  'Color': 'Blue & Yellow'},\n",
       " '1006': {'Item': 'Mobile',\n",
       "  'Price': 5000,\n",
       "  'Quantity': 250,\n",
       "  'Weight': 140,\n",
       "  'Color': 'Red'},\n",
       " '1007': {'Item': 'T-Shirt',\n",
       "  'Price': 300,\n",
       "  'Quantity': 500,\n",
       "  'Weight': 130,\n",
       "  'Color': 'Pink'},\n",
       " '1008': {'Item': 'Headphones',\n",
       "  'Price': 6174,\n",
       "  'Quantity': 40,\n",
       "  'Weight': 15,\n",
       "  'Color': 'White'},\n",
       " '1009': {'Item': 'Bag',\n",
       "  'Price': 3599,\n",
       "  'Quantity': 220,\n",
       "  'Weight': 4100,\n",
       "  'Color': 'Golden'},\n",
       " '1010': {'Item': 'Kitkat',\n",
       "  'Price': 126,\n",
       "  'Quantity': 500,\n",
       "  'Weight': 41,\n",
       "  'Color': 'Brown'},\n",
       " '1011': {'Item': 'Teddy Bear',\n",
       "  'Price': 1000,\n",
       "  'Quantity': 20,\n",
       "  'Weight': 612,\n",
       "  'Color': 'Green'},\n",
       " '1012': {'Item': 'Biscuit',\n",
       "  'Price': 100,\n",
       "  'Quantity': 55,\n",
       "  'Weight': 50,\n",
       "  'Color': 'Black'},\n",
       " '1013': {'Item': 'Cake',\n",
       "  'Price': 199,\n",
       "  'Quantity': 160,\n",
       "  'Weight': 500,\n",
       "  'Color': 'Orange'},\n",
       " '1014': {'Item': 'Bottle',\n",
       "  'Price': 199,\n",
       "  'Quantity': 620,\n",
       "  'Weight': 10,\n",
       "  'Color': 'White'},\n",
       " '1015': {'Item': 'Apple',\n",
       "  'Price': 125,\n",
       "  'Quantity': 800,\n",
       "  'Weight': 70,\n",
       "  'Color': 'Red'},\n",
       " '1016': {'Item': 'Cricket Bat',\n",
       "  'Price': 1200,\n",
       "  'Quantity': 700,\n",
       "  'Weight': 1250,\n",
       "  'Color': 'Brown'},\n",
       " '1017': {'Item': 'Pizza',\n",
       "  'Price': 99,\n",
       "  'Quantity': 500,\n",
       "  'Weight': 500,\n",
       "  'Color': 'Yellow'},\n",
       " '1018': {'Item': 'Jeans',\n",
       "  'Price': 650,\n",
       "  'Quantity': 610,\n",
       "  'Weight': 890,\n",
       "  'Color': 'Black'},\n",
       " '1019': {'Item': 'Mask',\n",
       "  'Price': 200,\n",
       "  'Quantity': 720,\n",
       "  'Weight': 4,\n",
       "  'Color': 'Maroon'},\n",
       " '1020': {'Item': 'Necklace',\n",
       "  'Price': 18437,\n",
       "  'Quantity': 400,\n",
       "  'Weight': 30,\n",
       "  'Color': 'Yellow'},\n",
       " '1021': {'Item': 'Ring',\n",
       "  'Price': 3112,\n",
       "  'Quantity': 200,\n",
       "  'Weight': 5,\n",
       "  'Color': 'Golden'},\n",
       " '1022': {'Item': 'Football',\n",
       "  'Price': 1499,\n",
       "  'Quantity': 560,\n",
       "  'Weight': 5,\n",
       "  'Color': 'Blue'},\n",
       " '1023': {'Item': 'Trophy',\n",
       "  'Price': 7899,\n",
       "  'Quantity': 150,\n",
       "  'Weight': 6175,\n",
       "  'Color': 'Brown & Yellow'},\n",
       " '1024': {'Item': 'Detergent',\n",
       "  'Price': 199,\n",
       "  'Quantity': 320,\n",
       "  'Weight': 500,\n",
       "  'Color': 'White'},\n",
       " '1025': {'Item': 'Tea Cup',\n",
       "  'Price': 23,\n",
       "  'Quantity': 200,\n",
       "  'Weight': 92,\n",
       "  'Color': 'Red & White'},\n",
       " '1026': {'Item': 'Bangles',\n",
       "  'Price': 30000,\n",
       "  'Quantity': 400,\n",
       "  'Weight': 50,\n",
       "  'Color': 'Cyan'},\n",
       " '1027': {'Item': 'Photo Frame',\n",
       "  'Price': 3550,\n",
       "  'Quantity': 180,\n",
       "  'Weight': 123,\n",
       "  'Color': 'Purple'},\n",
       " '1028': {'Item': 'Medicine',\n",
       "  'Price': 876,\n",
       "  'Quantity': 670,\n",
       "  'Weight': 200,\n",
       "  'Color': 'Orange'},\n",
       " '1029': {'Item': 'Umbrella',\n",
       "  'Price': 2045,\n",
       "  'Quantity': 110,\n",
       "  'Weight': 289,\n",
       "  'Color': 'Violet'},\n",
       " '1030': {'Item': 'Cosmetics',\n",
       "  'Price': 699,\n",
       "  'Quantity': 840,\n",
       "  'Weight': 699,\n",
       "  'Color': 'Pink'}}"
      ]
     },
     "execution_count": 22,
     "metadata": {},
     "output_type": "execute_result"
    }
   ],
   "source": [
    "record"
   ]
  },
  {
   "cell_type": "code",
   "execution_count": null,
   "id": "c3d14b89",
   "metadata": {},
   "outputs": [],
   "source": []
  }
 ],
 "metadata": {
  "kernelspec": {
   "display_name": "Python 3",
   "language": "python",
   "name": "python3"
  },
  "language_info": {
   "codemirror_mode": {
    "name": "ipython",
    "version": 3
   },
   "file_extension": ".py",
   "mimetype": "text/x-python",
   "name": "python",
   "nbconvert_exporter": "python",
   "pygments_lexer": "ipython3",
   "version": "3.9.5"
  }
 },
 "nbformat": 4,
 "nbformat_minor": 5
}
